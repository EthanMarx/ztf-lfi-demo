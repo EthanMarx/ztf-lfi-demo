{
 "cells": [
  {
   "cell_type": "markdown",
   "metadata": {},
   "source": [
    "<div style=\"magin-top:-10%;margin-left:10%\">\n",
    "<h1 style=\"background-color:#a31f34;color:#eeeeee;margin-right:10%;border-radius:15px\">\n",
    "    Simulation Based (Likelihood Free) Inference with Gravitational Wave Data\n",
    "</h1>\n",
    "\n",
    "<div style=\"color: #333333;font-size: 24pt\"> Ethan Marx </div>\n",
    "\n",
    "\n",
    "<p style=\"font-size:14pt;padding-top:3%\">\n",
    "<sub><sup>1 - Massachussetts Institute of Technology</sup></sub>\n",
    "</p>\n",
    "</div>"
   ]
  },
  {
   "cell_type": "markdown",
   "metadata": {},
   "source": [
    "## Demo Goals\n",
    "- Provide motivation for using ML and SBI/LFI\n",
    "- Introduce modern ML tools and best practices"
   ]
  },
  {
   "cell_type": "markdown",
   "metadata": {},
   "source": [
    "## Demo Outline\n",
    "- Brief introduction to GW data \n",
    "- The Parameter Inference Problem\n",
    "- Simulation Based Inference\n",
    "- Intro to PyTorch Lightning and ml4gw\n",
    "- Hands on Application to GW data"
   ]
  },
  {
   "cell_type": "markdown",
   "metadata": {},
   "source": [
    "## Introduction to Gravitational Waves\n"
   ]
  },
  {
   "cell_type": "markdown",
   "metadata": {},
   "source": [
    "## Parameter Estimation Problem"
   ]
  },
  {
   "cell_type": "markdown",
   "metadata": {},
   "source": [
    "## Simulation Based Inference"
   ]
  },
  {
   "cell_type": "markdown",
   "metadata": {},
   "source": [
    "## PyTorch Lightning"
   ]
  },
  {
   "cell_type": "markdown",
   "metadata": {},
   "source": [
    "## Hands on GW example "
   ]
  },
  {
   "cell_type": "markdown",
   "metadata": {},
   "source": []
  }
 ],
 "metadata": {
  "language_info": {
   "name": "python"
  }
 },
 "nbformat": 4,
 "nbformat_minor": 2
}
