{
 "cells": [
  {
   "cell_type": "code",
   "execution_count": 12,
   "metadata": {},
   "outputs": [],
   "source": [
    "# import the python libraries we'll be using\n",
    "import math\n",
    "from pathlib import Path\n",
    "from typing import Callable\n",
    "import h5py\n",
    "import gwpy\n",
    "import lightning.pytorch as pl\n",
    "from ml4gw import distributions, gw, waveforms, transforms, dataloading\n",
    "from ml4gw.nn.resnet import ResNet1D\n",
    "import matplotlib.pyplot as plt\n",
    "import pyro\n",
    "import torch\n",
    "import bilby\n",
    "import numpy as np\n",
    "import pandas as pd"
   ]
  },
  {
   "cell_type": "code",
   "execution_count": 13,
   "metadata": {},
   "outputs": [],
   "source": [
    "# instantiate some constants we'll use throughout the analysis\n",
    "\n",
    "SAMPLE_RATE = 1024 # rate at which our timeseries is sampled in Hz\n",
    "PSD_LENGTH = 8 # quantity of data (in seconds) used to calculate power spectral density\n",
    "FDURATION = 1 # duration of time domain filter used to whiten data\n",
    "IFOS = [\"H1\", \"L1\"] # interferometers we'll be using (LIGO Hanford and Livingston)\n",
    "HIGHPASS = 32 # highpass filter frequency (Hz)\n",
    "KERNEL_LENGTH = 0.5 # lenth of data (in seconds) passed to the interferometer\n",
    "CONTEXT_DIM = 32 # dimension of compressed data that will be passed to the normalizing flow\n",
    "FFTLENGTH = 2 # length of fft when estimating PSD\n",
    "BATCHES_PER_EPOCH = 200 # number of batches seen before validation\n",
    "MAX_EPOCHS = 30 # maximum number of training epochs\n",
    "BATCH_SIZE = 256 # number of samples per training batch"
   ]
  },
  {
   "cell_type": "code",
   "execution_count": 18,
   "metadata": {},
   "outputs": [
    {
     "name": "stdout",
     "output_type": "stream",
     "text": [
      "Downloading train segment, resampling train.hdf5 to 1024 Hz and saving to test.hdf5\n",
      "Downloading val segment, resampling val.hdf5 to 1024 Hz and saving to test.hdf5\n",
      "Downloading test segment, resampling test.hdf5 to 1024 Hz and saving to test.hdf5\n"
     ]
    }
   ],
   "source": [
    "from gwpy.timeseries import TimeSeries, TimeSeriesDict\n",
    "\n",
    "# train validation and testing segments \n",
    "segments = [(1240872261, 1240892261), (1240892261, 1240906993), (1240914063, 1240919356)]\n",
    "\n",
    "outdir = Path.cwd() / \"data\"\n",
    "outdir.mkdir(exist_ok = True, parents = True)\n",
    "fnames = [\"train.hdf5\", \"val.hdf5\", \"test.hdf5\"]\n",
    "for segment, fname in zip(segments, out_fnames):\n",
    "    print(f\"Downloading {fname.split('.')[0]} segment, resampling to {SAMPLE_RATE} Hz and saving to {out_fname}\")\n",
    "    start, stop = segment\n",
    "    data = TimeSeriesDict()\n",
    "    for ifo in IFOS:\n",
    "        data[ifo] = TimeSeries.fetch_open_data(ifo, start, stop).resample(SAMPLE_RATE)\n",
    "\n",
    "    # write data using chunked storage which\n",
    "    # makes dataloading quicker!\n",
    "    with h5py.File(outdir / fname, \"w\") as f:\n",
    "        data.write(\n",
    "            f,\n",
    "            format=\"hdf5\",\n",
    "            chunks=(131072,),\n",
    "            compression=None,\n",
    "        )"
   ]
  },
  {
   "cell_type": "code",
   "execution_count": 4,
   "metadata": {},
   "outputs": [],
   "source": [
    "# helper object for generating samples from\n",
    "# a prior defined for our waveform parameters\n",
    "class ParameterSampler(torch.nn.Module):\n",
    "    def __init__(self, **parameters: Callable):\n",
    "        super().__init__()\n",
    "        self.parameters = parameters\n",
    "\n",
    "    def forward(\n",
    "        self,\n",
    "        N: int,\n",
    "        device: str = \"cpu\",\n",
    "    ):\n",
    "        parameters = {\n",
    "            k: v.sample((N,)).to(device) for k, v in self.parameters.items()\n",
    "        }\n",
    "        return parameters\n",
    "\n",
    "\n",
    "# define our prior; some distributions are defined in the\n",
    "# torch.distributions module, others are taken from ml4gw.distributions;\n",
    "# this prior is for a sine-Gaussian waveform - more on that below\n",
    "prior = ParameterSampler(\n",
    "    frequency = torch.distributions.Uniform(128, 512), # central frequency of sine wave\n",
    "    quality = torch.distributions.Uniform(2, 100), # quality factor ( ~ number of cycles )\n",
    "    hrss = distributions.LogUniform(1e-21, 5e-20), # root sum squared strain (amplitude of signal)\n",
    "    phase = torch.distributions.Uniform(0, 2 * math.pi), # signal phase\n",
    "    eccentricity = torch.distributions.Uniform(0, 1), # eccentricity: controls relative content of h+ and hx polarizations\n",
    "    dec = distributions.Cosine(), # declination (sky localization)\n",
    "    psi = torch.distributions.Uniform(0, math.pi), # polarization angle\n",
    "    phi = torch.distributions.Uniform(-math.pi, math.pi) # phi (sky localization)\n",
    ")\n",
    "\n",
    "# number of parameters inference is being performed on\n",
    "NUM_PARAMS = len(prior.parameters.keys())\n",
    "INFERENCE_PARAMS = list(prior.parameters.keys())"
   ]
  },
  {
   "cell_type": "code",
   "execution_count": 5,
   "metadata": {},
   "outputs": [],
   "source": [
    "class DataLoader(pl.LightningDataModule):\n",
    "    \"\"\"\n",
    "    PyTorch lightning DataModule object that produces\n",
    "    data that is passed through the neural network for\n",
    "    training and validation\n",
    "\n",
    "    See https://lightning.ai/docs/pytorch/stable/data/datamodule.html\n",
    "    \"\"\"\n",
    "    def __init__(\n",
    "        self,\n",
    "        ifos: list[str],\n",
    "        sample_rate: float,\n",
    "        psd_length: float,\n",
    "        fduration: float,\n",
    "        kernel_length: float,\n",
    "        highpass: float,\n",
    "        fftlength: float,\n",
    "        batches_per_epoch: float,\n",
    "        batch_size: float,\n",
    "        num_params: int,\n",
    "    ):\n",
    "\n",
    "        # set attributes\n",
    "        super().__init__()\n",
    "        self.ifos = ifos\n",
    "        self.sample_rate = sample_rate\n",
    "        self.psd_length = psd_length\n",
    "        self.fduration = fduration\n",
    "        self.kernel_length = kernel_length\n",
    "        self.fftlength = fftlength\n",
    "        self.highpass = highpass\n",
    "        self.batch_size = batch_size\n",
    "        self.batches_per_epoch = batches_per_epoch\n",
    "\n",
    "        # set the prior that we defined above\n",
    "        self.prior = prior\n",
    "        self.num_params = num_params\n",
    "\n",
    "\n",
    "    \"\"\"\n",
    "    Define some helper properties\n",
    "    \"\"\"\n",
    "\n",
    "    @property\n",
    "    def kernel_size(self):\n",
    "      \"\"\"\n",
    "      The quantity of data (in seconds) actually analyzed by\n",
    "      the neural network\n",
    "      \"\"\"\n",
    "      return int(self.kernel_length * self.sample_rate)\n",
    "\n",
    "    @property\n",
    "    def window_size(self):\n",
    "        \"\"\"\n",
    "        The quantity of data (in seconds) before whitening is applied\n",
    "        and corrupted data is removed\n",
    "        \"\"\"\n",
    "        return self.kernel_size + int(self.fduration * self.sample_rate)\n",
    "\n",
    "    @property\n",
    "    def psd_size(self):\n",
    "        \"\"\"\n",
    "        The quantity of data (in seconds) used for psd estimation\n",
    "        \"\"\"\n",
    "        return int(self.psd_length * self.sample_rate)\n",
    "\n",
    "\n",
    "    @property\n",
    "    def data_fnames(self):\n",
    "        home = (Path.cwd() / \"ztf_data\").iterdir()\n",
    "        return sorted(home)\n",
    "\n",
    "    @property\n",
    "    def datadir(self):\n",
    "        \"\"\"\n",
    "        Return path to the strain data files we unzipped\n",
    "        and resampled above\n",
    "        \"\"\"\n",
    "        return Path.cwd() / \"ztf_data\"\n",
    "\n",
    "\n",
    "    @property\n",
    "    def train_fnames(self):\n",
    "      \"\"\"\n",
    "      The strain segment we'll be using to train the model;\n",
    "      \"\"\"\n",
    "      #return [self.data_fnames[0]]\n",
    "      return [self.datadir / \"train.hdf5\"]\n",
    "\n",
    "    @property\n",
    "    def val_fnames(self):\n",
    "      \"\"\"\n",
    "      The strain segment we'll be using to validate the model\n",
    "      \"\"\"\n",
    "      #return [self.data_fnames[-1]]\n",
    "      return [self.datadir / \"val.hdf5\"]\n",
    "\n",
    "    @property\n",
    "    def device(self):\n",
    "        \"\"\"\n",
    "        Find the device that the corresponding lightning module\n",
    "        is on so that we can transfer any on-device modules to the correct device\n",
    "        \"\"\"\n",
    "        return self.trainer.lightning_module.device\n",
    "\n",
    "\n",
    "    \"\"\"\n",
    "    The below methods are all PyTorch Lightning \"hooks\" or properties\n",
    "    used explicitly by the lightning library to control the DataModule.\n",
    "\n",
    "    I've linked the relevant documentation for each in the docstring\n",
    "    \"\"\"\n",
    "\n",
    "    def setup(self, stage):\n",
    "        \"\"\"\n",
    "        Lightning hook for initializing modules and properties of\n",
    "        the dataset on each device\n",
    "\n",
    "        See https://lightning.ai/docs/pytorch/stable/data/datamodule.html#setup\n",
    "        \"\"\"\n",
    "\n",
    "        # get the interferometer orientations and global positions\n",
    "        # so that we can project waveforms onto the interferometers;\n",
    "        tensors, vertices = gw.get_ifo_geometry(*self.ifos)\n",
    "\n",
    "        self.tensors = tensors.to(self.device)\n",
    "        self.vertices = vertices.to(self.device)\n",
    "\n",
    "        # define torch module that will generate waveforms\n",
    "        self.sine_gaussian = waveforms.SineGaussian(self.sample_rate, (self.fduration + self.kernel_length)).to(self.device)\n",
    "\n",
    "        # define torch modules for calculating PSD and performing whitening on GPU\n",
    "        self.spectral_density = transforms.SpectralDensity(\n",
    "            self.sample_rate, self.fftlength, average=\"median\", fast=True\n",
    "        ).to(self.device)\n",
    "\n",
    "        self.whitener = transforms.Whiten(self.fduration, self.sample_rate, highpass=self.highpass).to(self.device)\n",
    "\n",
    "        # define and fit a standard scaler that will scale our parameters\n",
    "        # to be mean 0 and unit variance, which makes it easier for the network to learn\n",
    "        scaler = transforms.ChannelWiseScaler(self.num_params).to(self.device)\n",
    "        parameters = self.prior(10_000, device = self.device)\n",
    "        parameters = torch.row_stack(list(parameters.values()))\n",
    "        scaler.fit(parameters)\n",
    "        self.scaler = scaler\n",
    "\n",
    "\n",
    "    def train_dataloader(self):\n",
    "        \"\"\"\n",
    "        PyTorch Lightning Dataloader used for training\n",
    "\n",
    "        See https://lightning.ai/docs/pytorch/stable/data/datamodule.html#train-dataloader\n",
    "        \"\"\"\n",
    "        # define our training dataset, which will\n",
    "        # randomly load windows of strain data from disk\n",
    "        dataset = dataloading.Hdf5TimeSeriesDataset(\n",
    "            self.train_fnames,\n",
    "            channels=self.ifos,\n",
    "            batch_size=self.batch_size,\n",
    "            kernel_size=int(self.window_size + self.psd_size),\n",
    "            batches_per_epoch=self.batches_per_epoch,\n",
    "            coincident=False,\n",
    "        )\n",
    "\n",
    "        pin_memory = isinstance(\n",
    "            self.trainer.accelerator, pl.accelerators.CUDAAccelerator\n",
    "        )\n",
    "\n",
    "        # wrap our dataset in a torch DataLoader to\n",
    "        # take advantage of torch's multiprocessing\n",
    "        dataloader = torch.utils.data.DataLoader(\n",
    "            dataset, num_workers=3, pin_memory=pin_memory\n",
    "        )\n",
    "        return dataloader\n",
    "\n",
    "    def val_dataloader(self):\n",
    "        \"\"\"\n",
    "        PyTorch Lightning Dataloader used for validation\n",
    "\n",
    "        See https://lightning.ai/docs/pytorch/stable/data/datamodule.html#val-dataloader\n",
    "        \"\"\"\n",
    "        dataset = dataloading.Hdf5TimeSeriesDataset(\n",
    "            self.val_fnames,\n",
    "            channels=self.ifos,\n",
    "            batch_size=self.batch_size,\n",
    "            kernel_size=int(self.window_size + self.psd_size),\n",
    "            batches_per_epoch=self.batches_per_epoch,\n",
    "            coincident=False,\n",
    "        )\n",
    "\n",
    "        pin_memory = isinstance(\n",
    "            self.trainer.accelerator, pl.accelerators.CUDAAccelerator\n",
    "        )\n",
    "\n",
    "        dataloader = torch.utils.data.DataLoader(\n",
    "            dataset, num_workers=3, pin_memory=pin_memory\n",
    "        )\n",
    "        return dataloader\n",
    "\n",
    "\n",
    "    def on_after_batch_transfer(self, batch, _):\n",
    "        \"\"\"\n",
    "        PyTorch lightning \"hook\" for performing any\n",
    "        data processing that can be accelerated by the GPU;\n",
    "\n",
    "        For our use case, we will do all the following on the GPU\n",
    "\n",
    "        1. Generate waveforms\n",
    "        2. Inject waveforms into background strain\n",
    "        3. Calculate PSD's\n",
    "        4. Whiten the injections\n",
    "\n",
    "\n",
    "        See https://lightning.ai/docs/pytorch/stable/data/datamodule.html#on-after-batch-transfer\n",
    "        \"\"\"\n",
    "\n",
    "\n",
    "        # unpack the raw GW strain data that has been loaded onto the GPU\n",
    "        [batch] = batch\n",
    "\n",
    "        # generate waveforms (on GPU) and inject them into the data!\n",
    "        num_signals = batch.shape[0]\n",
    "        waveforms, parameters = self.generate_waveforms(num_signals)\n",
    "        batch = self.inject(batch, waveforms, parameters)\n",
    "\n",
    "        return batch\n",
    "\n",
    "    \"\"\"\n",
    "    Non-Lightning specific helper functions for generating waveforms\n",
    "    and adding them into the interferometers\n",
    "    \"\"\"\n",
    "\n",
    "    # `@torch.no_grad()` let's torch know that we won't be using\n",
    "    # gradients for back propogation, so\n",
    "    # turn off gradient tracking to save memory\n",
    "    @torch.no_grad()\n",
    "    def inject(self, X, waveforms, parameters):\n",
    "\n",
    "        # break off \"background\" from target kernel and compute its PSD\n",
    "        # (in double precision since our scale is so small)\n",
    "        background, X = torch.split(X, [self.psd_size, self.window_size], dim=-1)\n",
    "        psd = self.spectral_density(background.double())\n",
    "\n",
    "\n",
    "        # inject the waveforms into the data\n",
    "        X = X + waveforms\n",
    "\n",
    "        # whiten the injections with the psd\n",
    "        X = self.whitener(X, psd)\n",
    "\n",
    "\n",
    "        # scale parameters\n",
    "        scaled = self.scale(parameters)\n",
    "\n",
    "\n",
    "        return X, scaled\n",
    "\n",
    "\n",
    "    @torch.no_grad()\n",
    "    def generate_waveforms(self, batch_size):\n",
    "\n",
    "        # sample waveform parameters\n",
    "        # (both intrinsic and extrinsic) from the prior\n",
    "        parameters = self.prior(batch_size, device = self.device)\n",
    "\n",
    "        # pop out the extrinsic parameters into their own dictionary\n",
    "        extrinsic = {}\n",
    "        for parameter in [\"phi\", \"dec\", \"psi\"]:\n",
    "            extrinsic[parameter] = parameters.pop(parameter)\n",
    "\n",
    "\n",
    "        # generate raw cross and plus polarizations\n",
    "        # from just the intrinsic parameters\n",
    "        cross, plus = self.sine_gaussian(**parameters)\n",
    "\n",
    "        # project waveforms onto the detectors\n",
    "        # using the sampled extrinsic sky parameters\n",
    "        waveforms = gw.compute_observed_strain(\n",
    "          extrinsic['dec'],\n",
    "          extrinsic['psi'],\n",
    "          extrinsic['phi'],\n",
    "          self.tensors,\n",
    "          self.vertices,\n",
    "          self.sample_rate,\n",
    "          cross=cross,\n",
    "          plus=plus,\n",
    "        )\n",
    "\n",
    "\n",
    "        # add back in the extrinsic parameters\n",
    "        parameters.update(extrinsic)\n",
    "\n",
    "        parameters = [\n",
    "            torch.Tensor(parameters[k]) for k in self.prior.parameters.keys()\n",
    "        ]\n",
    "        parameters = torch.vstack(parameters).T\n",
    "\n",
    "        # return the waveforms and parameters\n",
    "        return waveforms, parameters\n",
    "\n",
    "\n",
    "    def scale(self, parameters, reverse: bool = False):\n",
    "        \"\"\"\n",
    "        Apply standard scaling to the parameters\n",
    "        \"\"\"\n",
    "        parameters = parameters.transpose(1, 0)\n",
    "        scaled = self.scaler(parameters, reverse=reverse)\n",
    "        scaled = scaled.transpose(1, 0)\n",
    "        return scaled"
   ]
  },
  {
   "cell_type": "code",
   "execution_count": 6,
   "metadata": {},
   "outputs": [],
   "source": [
    "import torch\n",
    "import torch.distributions as dist\n",
    "from pyro.distributions import ConditionalTransformedDistribution\n",
    "from pyro.distributions.conditional import ConditionalComposeTransformModule\n",
    "from pyro.distributions.transforms import ConditionalAffineAutoregressive\n",
    "from pyro.nn import ConditionalAutoRegressiveNN, PyroModule\n",
    "\n",
    "class NormalizingFlow(PyroModule):\n",
    "    \"\"\"\n",
    "    A torch.nn.Module that represents a normalizing flow\n",
    "    \"\"\"\n",
    "    def __init__(\n",
    "        self,\n",
    "        num_params: int,\n",
    "        hidden_features: int = 50,\n",
    "        num_transforms: int = 3,\n",
    "        num_blocks: int = 2,\n",
    "        activation: torch.nn.modules.activation = torch.nn.Tanh(),\n",
    "    ):\n",
    "\n",
    "        super().__init__()\n",
    "        self.num_params = num_params\n",
    "        self.hidden_features = hidden_features\n",
    "        self.num_blocks = num_blocks\n",
    "        self.num_transforms = num_transforms\n",
    "        self.activation = activation\n",
    "\n",
    "        # register these as buffers so the\n",
    "        # distributions are moved to the correct device\n",
    "        self.register_buffer(\"mean\", torch.zeros(self.num_params))\n",
    "        self.register_buffer(\"std\", torch.ones(self.num_params))\n",
    "\n",
    "        # setup a trainable embedding network that will compress the data\n",
    "        # to a lower dimension more manageable computationally for the flow;\n",
    "        # Here we use a convolutional neural network\n",
    "        self.embedding = ResNet1D(len(IFOS), layers = [2, 2], classes=CONTEXT_DIM)\n",
    "\n",
    "        # build the sequence of invertible flow transforms\n",
    "        self.transforms = self.build_transforms()\n",
    "\n",
    "    def transform_block(self):\n",
    "        \"\"\"Returns single autoregressive transform\"\"\"\n",
    "        arn = ConditionalAutoRegressiveNN(\n",
    "            self.num_params,\n",
    "            CONTEXT_DIM,\n",
    "            self.num_blocks * [self.hidden_features],\n",
    "            nonlinearity=self.activation,\n",
    "        )\n",
    "        return ConditionalAffineAutoregressive(arn)\n",
    "\n",
    "    def distribution(self):\n",
    "        \"\"\"Returns the base distribution for the flow\"\"\"\n",
    "        return dist.Normal(\n",
    "            self.mean,\n",
    "            self.std,\n",
    "        )\n",
    "\n",
    "    def flow(self) -> ConditionalTransformedDistribution:\n",
    "        return ConditionalTransformedDistribution(\n",
    "            self.distribution(), self.transforms\n",
    "        )\n",
    "\n",
    "    def build_transforms(self):\n",
    "        \"\"\"Compose multiple transforms into a 'flow' \"\"\"\n",
    "        transforms = []\n",
    "        for _ in range(self.num_transforms):\n",
    "            transform = self.transform_block()\n",
    "            transforms.extend([transform])\n",
    "        return ConditionalComposeTransformModule(transforms)\n",
    "\n",
    "    def log_prob(self, x, context):\n",
    "        \"\"\"\n",
    "        Return the networks approximate estimate of the\n",
    "        log likelihood of the data conditioned on the context\n",
    "        \"\"\"\n",
    "        embedded_context = self.embedding(context)\n",
    "        return self.flow().condition(embedded_context).log_prob(x)\n",
    "\n",
    "\n",
    "    def sample(self, n: int, context):\n",
    "        \"\"\"\n",
    "        Produce posterior samples from the normalizing flow\n",
    "        \"\"\"\n",
    "\n",
    "        embedded_context = self.embedding(context)\n",
    "        n = [n] if isinstance(n, int) else n\n",
    "        return self.flow().condition(embedded_context).sample(n)"
   ]
  },
  {
   "cell_type": "code",
   "execution_count": 7,
   "metadata": {},
   "outputs": [],
   "source": [
    "class PlotCallback(pl.Callback):\n",
    "    # define a callback that will be run when training begins\n",
    "    def on_train_start(self, trainer, pl_module):\n",
    "        datamodule = trainer.datamodule\n",
    "        # sample a batch of strain data from our dataloader\n",
    "        [batch] = next(iter(datamodule.train_dataloader()))\n",
    "        batch = batch.to(trainer.datamodule.device)\n",
    "        # perform on the on-device injections\n",
    "        num_signals = batch.shape[0]\n",
    "        waveforms, parameters = datamodule.generate_waveforms(num_signals)\n",
    "        strain, parameters = datamodule.inject(batch, waveforms, parameters)\n",
    "\n",
    "\n",
    "        strain = strain.detach().cpu().numpy()\n",
    "        plt.plot(strain[0][0], label = \"Hanford\")\n",
    "        plt.plot(strain[0][1], label = \"Livingston\")\n",
    "\n",
    "        plt.xlabel(\"Time (number of samples)\")\n",
    "        plt.ylabel(\"Whitened Strain\")\n",
    "        plt.title(\"Example data\")\n",
    "        plt.legend()\n",
    "        plt.show()"
   ]
  },
  {
   "cell_type": "code",
   "execution_count": 8,
   "metadata": {},
   "outputs": [],
   "source": [
    "class SBIModule(pl.LightningModule):\n",
    "    \"\"\"\n",
    "    PyTorch lightning LightningModule that configures how the neural network\n",
    "    processes data in the training and validation loops, the optimizer used\n",
    "    to perform gradient descent, and any learning rate schedulers.\n",
    "\n",
    "    See https://lightning.ai/docs/pytorch/stable/common/lightning_module.html#lightningmodule\n",
    "    \"\"\"\n",
    "    def __init__(\n",
    "        self,\n",
    "        learning_rate: float,\n",
    "        weight_decay: float = 0.0,\n",
    "\n",
    "    ):\n",
    "        super().__init__()\n",
    "\n",
    "        # instantiate the flow architecture\n",
    "        # we are going to train\n",
    "        self.model = NormalizingFlow(NUM_PARAMS)\n",
    "        self.learning_rate = learning_rate\n",
    "        self.weight_decay = weight_decay\n",
    "\n",
    "\n",
    "    def forward(self, strain, parameters) -> torch.Tensor:\n",
    "        # return the negative log likelihood to minimize\n",
    "        return -self.model.log_prob(parameters, context=strain)\n",
    "\n",
    "    def training_step(self, batch, _):\n",
    "        \"\"\"\n",
    "        Lightning hook that defines how we process a training batch;\n",
    "        Should return some measure of 'loss' that we can call\n",
    "        .backward() on to update the parameters of the normalizing\n",
    "        \"\"\"\n",
    "        strain, parameters = batch\n",
    "        loss = self(strain, parameters).mean()\n",
    "        self.log(\n",
    "            \"train_loss\",\n",
    "            loss,\n",
    "            on_step=True,\n",
    "            on_epoch=True,\n",
    "            prog_bar=True,\n",
    "            sync_dist=False,\n",
    "            logger=True,\n",
    "        )\n",
    "        return loss\n",
    "\n",
    "    def validation_step(self, batch, _):\n",
    "        \"\"\"\n",
    "        Lightning hook that defines how we process a validation batch;\n",
    "        \"\"\"\n",
    "        strain, parameters = batch\n",
    "        loss = self(strain, parameters).mean()\n",
    "        self.log(\n",
    "            \"valid_loss\",\n",
    "            loss,\n",
    "            on_step=True,\n",
    "            on_epoch=True,\n",
    "            prog_bar=True,\n",
    "            sync_dist=True,\n",
    "            logger=True,\n",
    "        )\n",
    "        return loss\n",
    "\n",
    "    def configure_callbacks(self):\n",
    "        \"\"\"\n",
    "        Lightning hook for setting up callbacks;\n",
    "        Here we just use PlotCallback defined above and\n",
    "        a builting ModelCheckpoint callback for saving model weight\n",
    "        checkpoints\n",
    "\n",
    "        \"\"\"\n",
    "        chkpt = pl.callbacks.ModelCheckpoint(monitor=\"valid_loss\", mode=\"min\")\n",
    "        return [PlotCallback(), chkpt]\n",
    "\n",
    "\n",
    "    def configure_optimizers(self):\n",
    "\n",
    "        # pass the optimizer the model parameters to optimize\n",
    "        optimizer = torch.optim.AdamW(\n",
    "            self.model.parameters(),\n",
    "            lr=self.learning_rate,\n",
    "            weight_decay=self.weight_decay,\n",
    "        )\n",
    "\n",
    "        # setup a learning rate scheduler that will\n",
    "        # decrease the learning rate if the validation loss doesnt improve\n",
    "        scheduler = torch.optim.lr_scheduler.ReduceLROnPlateau(optimizer)\n",
    "        return {\n",
    "            \"optimizer\": optimizer,\n",
    "            \"lr_scheduler\": {\"scheduler\": scheduler, \"monitor\": \"valid_loss\"},\n",
    "        }"
   ]
  },
  {
   "cell_type": "code",
   "execution_count": 9,
   "metadata": {},
   "outputs": [],
   "source": [
    "# instantiate our LightningModule and DataModule\n",
    "model = SBIModule(learning_rate=1e-4)\n",
    "\n",
    "dataloader = DataLoader(\n",
    "    IFOS,\n",
    "    SAMPLE_RATE,\n",
    "    PSD_LENGTH,\n",
    "    FDURATION,\n",
    "    KERNEL_LENGTH,\n",
    "    HIGHPASS,\n",
    "    FFTLENGTH,\n",
    "    BATCHES_PER_EPOCH,\n",
    "    BATCH_SIZE,\n",
    "    NUM_PARAMS\n",
    ")"
   ]
  },
  {
   "cell_type": "code",
   "execution_count": 10,
   "metadata": {
    "editable": true,
    "slideshow": {
     "slide_type": ""
    },
    "tags": []
   },
   "outputs": [
    {
     "name": "stderr",
     "output_type": "stream",
     "text": [
      "Trainer will use only 1 of 2 GPUs because it is running inside an interactive / notebook environment. You may try to set `Trainer(devices=2)` but please note that multi-GPU inside interactive / notebook environments is considered experimental and unstable. Your mileage may vary.\n",
      "GPU available: True (cuda), used: True\n",
      "TPU available: False, using: 0 TPU cores\n",
      "IPU available: False, using: 0 IPUs\n",
      "HPU available: False, using: 0 HPUs\n",
      "/opt/env/lib/python3.9/site-packages/lightning/pytorch/trainer/connectors/logger_connector/logger_connector.py:75: Starting from v1.9.0, `tensorboardX` has been removed as a dependency of the `lightning.pytorch` package, due to potential conflicts with other packages in the ML ecosystem. For this reason, `logger=True` will use `CSVLogger` as the default logger, unless the `tensorboard` or `tensorboardX` packages are found. Please `pip install lightning[extra]` or one of them to enable TensorBoard support by default\n",
      "The following callbacks returned in `LightningModule.configure_callbacks` will override existing callbacks passed to Trainer: ModelCheckpoint\n",
      "You are using a CUDA device ('NVIDIA A30') that has Tensor Cores. To properly utilize them, you should set `torch.set_float32_matmul_precision('medium' | 'high')` which will trade-off precision for performance. For more details, read https://pytorch.org/docs/stable/generated/torch.set_float32_matmul_precision.html#torch.set_float32_matmul_precision\n",
      "Missing logger folder: /home/ethan.marx/projects/ztf-lfi-demo/lightning_logs\n",
      "LOCAL_RANK: 0 - CUDA_VISIBLE_DEVICES: [0,1]\n",
      "\n",
      "  | Name  | Type            | Params\n",
      "------------------------------------------\n",
      "0 | model | NormalizingFlow | 252 K \n",
      "------------------------------------------\n",
      "252 K     Trainable params\n",
      "0         Non-trainable params\n",
      "252 K     Total params\n",
      "1.010     Total estimated model params size (MB)\n"
     ]
    },
    {
     "data": {
      "application/vnd.jupyter.widget-view+json": {
       "model_id": "",
       "version_major": 2,
       "version_minor": 0
      },
      "text/plain": [
       "Sanity Checking: |                                                                                            …"
      ]
     },
     "metadata": {},
     "output_type": "display_data"
    },
    {
     "name": "stderr",
     "output_type": "stream",
     "text": [
      "/opt/env/lib/python3.9/site-packages/lightning/pytorch/utilities/data.py:121: Your `IterableDataset` has `__len__` defined. In combination with multi-process data loading (when num_workers > 1), `__len__` could be inaccurate if each worker is not configured independently to avoid having duplicate data.\n"
     ]
    },
    {
     "data": {
      "application/vnd.jupyter.widget-view+json": {
       "model_id": "6764d42f48244f6d887ba68780010795",
       "version_major": 2,
       "version_minor": 0
      },
      "text/plain": [
       "Training: |                                                                                                   …"
      ]
     },
     "metadata": {},
     "output_type": "display_data"
    },
    {
     "data": {
      "image/png": "[encoded data removed]",
      "text/plain": [
       "<Figure size 640x480 with 1 Axes>"
      ]
     },
     "metadata": {},
     "output_type": "display_data"
    },
    {
     "data": {
      "application/vnd.jupyter.widget-view+json": {
       "model_id": "",
       "version_major": 2,
       "version_minor": 0
      },
      "text/plain": [
       "Validation: |                                                                                                 …"
      ]
     },
     "metadata": {},
     "output_type": "display_data"
    },
    {
     "data": {
      "application/vnd.jupyter.widget-view+json": {
       "model_id": "",
       "version_major": 2,
       "version_minor": 0
      },
      "text/plain": [
       "Validation: |                                                                                                 …"
      ]
     },
     "metadata": {},
     "output_type": "display_data"
    },
    {
     "data": {
      "application/vnd.jupyter.widget-view+json": {
       "model_id": "",
       "version_major": 2,
       "version_minor": 0
      },
      "text/plain": [
       "Validation: |                                                                                                 …"
      ]
     },
     "metadata": {},
     "output_type": "display_data"
    },
    {
     "data": {
      "application/vnd.jupyter.widget-view+json": {
       "model_id": "",
       "version_major": 2,
       "version_minor": 0
      },
      "text/plain": [
       "Validation: |                                                                                                 …"
      ]
     },
     "metadata": {},
     "output_type": "display_data"
    },
    {
     "data": {
      "application/vnd.jupyter.widget-view+json": {
       "model_id": "",
       "version_major": 2,
       "version_minor": 0
      },
      "text/plain": [
       "Validation: |                                                                                                 …"
      ]
     },
     "metadata": {},
     "output_type": "display_data"
    },
    {
     "data": {
      "application/vnd.jupyter.widget-view+json": {
       "model_id": "",
       "version_major": 2,
       "version_minor": 0
      },
      "text/plain": [
       "Validation: |                                                                                                 …"
      ]
     },
     "metadata": {},
     "output_type": "display_data"
    },
    {
     "data": {
      "application/vnd.jupyter.widget-view+json": {
       "model_id": "",
       "version_major": 2,
       "version_minor": 0
      },
      "text/plain": [
       "Validation: |                                                                                                 …"
      ]
     },
     "metadata": {},
     "output_type": "display_data"
    },
    {
     "data": {
      "application/vnd.jupyter.widget-view+json": {
       "model_id": "",
       "version_major": 2,
       "version_minor": 0
      },
      "text/plain": [
       "Validation: |                                                                                                 …"
      ]
     },
     "metadata": {},
     "output_type": "display_data"
    },
    {
     "data": {
      "application/vnd.jupyter.widget-view+json": {
       "model_id": "",
       "version_major": 2,
       "version_minor": 0
      },
      "text/plain": [
       "Validation: |                                                                                                 …"
      ]
     },
     "metadata": {},
     "output_type": "display_data"
    },
    {
     "data": {
      "application/vnd.jupyter.widget-view+json": {
       "model_id": "",
       "version_major": 2,
       "version_minor": 0
      },
      "text/plain": [
       "Validation: |                                                                                                 …"
      ]
     },
     "metadata": {},
     "output_type": "display_data"
    },
    {
     "data": {
      "application/vnd.jupyter.widget-view+json": {
       "model_id": "",
       "version_major": 2,
       "version_minor": 0
      },
      "text/plain": [
       "Validation: |                                                                                                 …"
      ]
     },
     "metadata": {},
     "output_type": "display_data"
    },
    {
     "data": {
      "application/vnd.jupyter.widget-view+json": {
       "model_id": "",
       "version_major": 2,
       "version_minor": 0
      },
      "text/plain": [
       "Validation: |                                                                                                 …"
      ]
     },
     "metadata": {},
     "output_type": "display_data"
    },
    {
     "data": {
      "application/vnd.jupyter.widget-view+json": {
       "model_id": "",
       "version_major": 2,
       "version_minor": 0
      },
      "text/plain": [
       "Validation: |                                                                                                 …"
      ]
     },
     "metadata": {},
     "output_type": "display_data"
    },
    {
     "data": {
      "application/vnd.jupyter.widget-view+json": {
       "model_id": "",
       "version_major": 2,
       "version_minor": 0
      },
      "text/plain": [
       "Validation: |                                                                                                 …"
      ]
     },
     "metadata": {},
     "output_type": "display_data"
    },
    {
     "data": {
      "application/vnd.jupyter.widget-view+json": {
       "model_id": "",
       "version_major": 2,
       "version_minor": 0
      },
      "text/plain": [
       "Validation: |                                                                                                 …"
      ]
     },
     "metadata": {},
     "output_type": "display_data"
    },
    {
     "data": {
      "application/vnd.jupyter.widget-view+json": {
       "model_id": "",
       "version_major": 2,
       "version_minor": 0
      },
      "text/plain": [
       "Validation: |                                                                                                 …"
      ]
     },
     "metadata": {},
     "output_type": "display_data"
    },
    {
     "data": {
      "application/vnd.jupyter.widget-view+json": {
       "model_id": "",
       "version_major": 2,
       "version_minor": 0
      },
      "text/plain": [
       "Validation: |                                                                                                 …"
      ]
     },
     "metadata": {},
     "output_type": "display_data"
    },
    {
     "data": {
      "application/vnd.jupyter.widget-view+json": {
       "model_id": "",
       "version_major": 2,
       "version_minor": 0
      },
      "text/plain": [
       "Validation: |                                                                                                 …"
      ]
     },
     "metadata": {},
     "output_type": "display_data"
    },
    {
     "data": {
      "application/vnd.jupyter.widget-view+json": {
       "model_id": "",
       "version_major": 2,
       "version_minor": 0
      },
      "text/plain": [
       "Validation: |                                                                                                 …"
      ]
     },
     "metadata": {},
     "output_type": "display_data"
    },
    {
     "data": {
      "application/vnd.jupyter.widget-view+json": {
       "model_id": "",
       "version_major": 2,
       "version_minor": 0
      },
      "text/plain": [
       "Validation: |                                                                            | 0/? [00:00<?, ?it/s…"
      ]
     },
     "metadata": {},
     "output_type": "display_data"
    },
    {
     "data": {
      "application/vnd.jupyter.widget-view+json": {
       "model_id": "",
       "version_major": 2,
       "version_minor": 0
      },
      "text/plain": [
       "Validation: |                                                                            | 0/? [00:00<?, ?it/s…"
      ]
     },
     "metadata": {},
     "output_type": "display_data"
    },
    {
     "data": {
      "application/vnd.jupyter.widget-view+json": {
       "model_id": "",
       "version_major": 2,
       "version_minor": 0
      },
      "text/plain": [
       "Validation: |                                                                            | 0/? [00:00<?, ?it/s…"
      ]
     },
     "metadata": {},
     "output_type": "display_data"
    },
    {
     "data": {
      "application/vnd.jupyter.widget-view+json": {
       "model_id": "",
       "version_major": 2,
       "version_minor": 0
      },
      "text/plain": [
       "Validation: |                                                                            | 0/? [00:00<?, ?it/s…"
      ]
     },
     "metadata": {},
     "output_type": "display_data"
    },
    {
     "data": {
      "application/vnd.jupyter.widget-view+json": {
       "model_id": "",
       "version_major": 2,
       "version_minor": 0
      },
      "text/plain": [
       "Validation: |                                                                            | 0/? [00:00<?, ?it/s…"
      ]
     },
     "metadata": {},
     "output_type": "display_data"
    },
    {
     "data": {
      "application/vnd.jupyter.widget-view+json": {
       "model_id": "",
       "version_major": 2,
       "version_minor": 0
      },
      "text/plain": [
       "Validation: |                                                                            | 0/? [00:00<?, ?it/s…"
      ]
     },
     "metadata": {},
     "output_type": "display_data"
    },
    {
     "data": {
      "application/vnd.jupyter.widget-view+json": {
       "model_id": "",
       "version_major": 2,
       "version_minor": 0
      },
      "text/plain": [
       "Validation: |                                                                            | 0/? [00:00<?, ?it/s…"
      ]
     },
     "metadata": {},
     "output_type": "display_data"
    },
    {
     "data": {
      "application/vnd.jupyter.widget-view+json": {
       "model_id": "",
       "version_major": 2,
       "version_minor": 0
      },
      "text/plain": [
       "Validation: |                                                                            | 0/? [00:00<?, ?it/s…"
      ]
     },
     "metadata": {},
     "output_type": "display_data"
    },
    {
     "name": "stderr",
     "output_type": "stream",
     "text": [
      "/opt/env/lib/python3.9/site-packages/lightning/pytorch/trainer/call.py:54: Detected KeyboardInterrupt, attempting graceful shutdown...\n"
     ]
    }
   ],
   "source": [
    "# instantiate a PyTorch lightning Trainer object\n",
    "trainer = pl.Trainer(max_epochs=MAX_EPOCHS)\n",
    "\n",
    "# train! The fit command will run through the training step and validation step iteratively\n",
    "# until max_epochs (or an early stopping condition) is reached\n",
    "trainer.fit(model, dataloader)"
   ]
  },
  {
   "cell_type": "code",
   "execution_count": null,
   "metadata": {},
   "outputs": [],
   "source": [
    "# now let's test out the model!\n",
    "\n",
    "class DataLoaderWithTest(DataLoader):\n",
    "    def test_dataloader(self):\n",
    "        # TODO: implement the test data_loader\n",
    "        # HINT: this should be very similar to the\n",
    "        # train_dataloader and val_dataloader above -\n",
    "        # recall that we have a test.hdf5 file!\n",
    "\n",
    "        # Double HINT: use a batch_size of 1,\n",
    "        # since model.sample can only take\n",
    "        # one element at a time\n",
    "        dataset = dataloading.Hdf5TimeSeriesDataset(\n",
    "            self.train_fnames,\n",
    "            channels=self.ifos,\n",
    "            batch_size=1,\n",
    "            kernel_size=int(self.window_size + self.psd_size),\n",
    "            batches_per_epoch=10,\n",
    "            coincident=False,\n",
    "        )\n",
    "\n",
    "        pin_memory = isinstance(\n",
    "            self.trainer.accelerator, pl.accelerators.CUDAAccelerator\n",
    "        )\n",
    "\n",
    "        # wrap our dataset in a torch DataLoader to\n",
    "        # take advantage of torch's multiprocessing\n",
    "        dataloader = torch.utils.data.DataLoader(\n",
    "            dataset, num_workers=1, pin_memory=pin_memory\n",
    "        )\n",
    "        return dataloader\n",
    "\n",
    "\n",
    "class SBIModuleWithTest(SBIModule):\n",
    "    def on_test_epoch_start(self):\n",
    "        self.test_results = []\n",
    "        self.idx = 0\n",
    "\n",
    "    def test_step(self, batch, _):\n",
    "        strain, parameters = batch\n",
    "\n",
    "        samples = self.model.sample(\n",
    "            1000, context=strain\n",
    "        )\n",
    "\n",
    "        # descale the parameters back to their physical values\n",
    "        descaled = self.trainer.datamodule.scale(samples, reverse=True)\n",
    "        parameters = self.trainer.datamodule.scale(parameters, reverse=True)\n",
    "\n",
    "        result = self.cast_as_bilby_result(\n",
    "            descaled.cpu().numpy(),\n",
    "            parameters.cpu().numpy()[0],\n",
    "        )\n",
    "\n",
    "        self.test_results.append(result)\n",
    "\n",
    "\n",
    "    def on_test_epoch_end(self):\n",
    "        bilby.result.make_pp_plot(\n",
    "            self.test_results,\n",
    "            save=True,\n",
    "            filename=self.outdir / \"pp-plot.png\",\n",
    "            keys=self.inference_params,\n",
    "        )\n",
    "\n",
    "\n",
    "\n",
    "\n",
    "    def cast_as_bilby_result(\n",
    "        self,\n",
    "        samples: np.ndarray,\n",
    "        truth: np.ndarray,\n",
    "    ):\n",
    "        \"\"\"Cast posterior samples as Bilby Result object\n",
    "        for ease of producing corner and pp plots\n",
    "\n",
    "        Args:\n",
    "            samples: posterior samples (1, num_samples, num_params)\n",
    "            truth: true values of the parameters  (1, num_params)\n",
    "            priors: dictionary of prior objects\n",
    "            label: label for the bilby result object\n",
    "\n",
    "        \"\"\"\n",
    "\n",
    "        injection_parameters = {\n",
    "            k: float(v) for k, v in zip(list(prior.keys()), truth)\n",
    "        }\n",
    "\n",
    "        # create dummy prior with correct attributes\n",
    "        # for making our results compatible with bilbys make_pp_plot\n",
    "        priors = {\n",
    "            param: bilby.core.prior.base.Prior(latex_label=param)\n",
    "            for param in self.inference_params\n",
    "        }\n",
    "        posterior = dict()\n",
    "        for idx, k in enumerate(self.inference_params):\n",
    "            posterior[k] = samples.T[idx].flatten()\n",
    "        posterior = pd.DataFrame(posterior)\n",
    "\n",
    "        return bilby.result.Result(\n",
    "            label=\"PEModel\",\n",
    "            injection_parameters=injection_parameters,\n",
    "            posterior=posterior,\n",
    "            search_parameter_keys=list(prior.keys()),\n",
    "            priors=priors,\n",
    "        )"
   ]
  }
 ],
 "metadata": {
  "kernelspec": {
   "display_name": "Python 3 (ipykernel)",
   "language": "python",
   "name": "python3"
  },
  "language_info": {
   "codemirror_mode": {
    "name": "ipython",
    "version": 3
   },
   "file_extension": ".py",
   "mimetype": "text/x-python",
   "name": "python",
   "nbconvert_exporter": "python",
   "pygments_lexer": "ipython3",
   "version": "3.9.19"
  }
 },
 "nbformat": 4,
 "nbformat_minor": 4
}
